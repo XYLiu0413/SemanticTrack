{
 "cells": [
  {
   "cell_type": "code",
   "id": "initial_id",
   "metadata": {
    "collapsed": true,
    "ExecuteTime": {
     "end_time": "2024-07-28T12:15:45.525340Z",
     "start_time": "2024-07-28T12:15:43.938058Z"
    }
   },
   "source": [
    "import numpy as np\n",
    "from scipy.optimize import linear_sum_assignment\n"
   ],
   "outputs": [],
   "execution_count": 1
  },
  {
   "metadata": {
    "ExecuteTime": {
     "end_time": "2024-07-28T13:05:03.150949Z",
     "start_time": "2024-07-28T13:05:03.128987Z"
    }
   },
   "cell_type": "code",
   "source": [
    "cost_matrix = np.array([\n",
    "    [1, 1, 1, 1],\n",
    "    [12, 5, 7, 9],\n",
    "    [5, 1, 8, 6],\n",
    "    [1, 5, 8, 6],\n",
    "    [6, 3, 5, 2],\n",
    "    [7, 8, 3, 4]\n",
    "])\n",
    "row_ind, col_ind = linear_sum_assignment(cost_matrix)\n",
    "print(\"最佳分配方案：\")\n",
    "id=set()\n",
    "\n",
    "for i, j in zip(row_ind, col_ind):\n",
    "    print(f\"工人 {i} -> 任务 {j}, 成本 = {cost_matrix[i, j]}\")\n",
    "    id.add(i)\n",
    "not_id=set(range(6))-id\n",
    "total_cost = cost_matrix[row_ind, col_ind].sum()\n",
    "print(f\"总成本 = {total_cost}\")"
   ],
   "id": "bbc2a8708d09b4f7",
   "outputs": [
    {
     "name": "stdout",
     "output_type": "stream",
     "text": [
      "最佳分配方案：\n",
      "工人 0 -> 任务 2, 成本 = 1\n",
      "工人 2 -> 任务 1, 成本 = 1\n",
      "工人 3 -> 任务 0, 成本 = 1\n",
      "工人 4 -> 任务 3, 成本 = 2\n",
      "总成本 = 5\n"
     ]
    }
   ],
   "execution_count": 8
  }
 ],
 "metadata": {
  "kernelspec": {
   "display_name": "Python 3",
   "language": "python",
   "name": "python3"
  },
  "language_info": {
   "codemirror_mode": {
    "name": "ipython",
    "version": 2
   },
   "file_extension": ".py",
   "mimetype": "text/x-python",
   "name": "python",
   "nbconvert_exporter": "python",
   "pygments_lexer": "ipython2",
   "version": "2.7.6"
  }
 },
 "nbformat": 4,
 "nbformat_minor": 5
}
